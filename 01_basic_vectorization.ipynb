{
 "cells": [
  {
   "attachments": {},
   "cell_type": "markdown",
   "metadata": {},
   "source": [
    "# 1 Basic Vectorization\n",
    "\n",
    "Vectorization refers to processing multiple compute-intensive steps in parallel. This is done by formulating by computation steps in terms of vectors and using efficient math like dot-product to speed up calculation"
   ]
  },
  {
   "cell_type": "code",
   "execution_count": 1,
   "metadata": {},
   "outputs": [],
   "source": [
    "from time import perf_counter\n",
    "import numpy as np"
   ]
  },
  {
   "attachments": {},
   "cell_type": "markdown",
   "metadata": {},
   "source": [
    "### Comparing speedup for loop-based vs matmul based dot-product for 1D array\n",
    "- Two random np.arrays a, b are created each of size 10, 100, 1000, 10000, 100000\n",
    "- Time required to obtain dot product using loop is calculated as mean of 1000 runs to reduce variance\n",
    "- The same procedure is done for np.matmul operation -> a @ b.T\n",
    "- Speedup is represented as multiples: Ratio of ```time_taken_for_loop / time_taken_for_matmul```"
   ]
  },
  {
   "cell_type": "code",
   "execution_count": 85,
   "metadata": {},
   "outputs": [
    {
     "name": "stdout",
     "output_type": "stream",
     "text": [
      "Size of a, b: 10| Dot Product| Value: 2.76E+00, Loop time: 2.37E-06s\n",
      "Size of a, b: 10| Dot Product| Value: 2.76E+00, Matmul time: 1.42E-06s\n",
      "SpeedUp of matmul compared to loop for size 10: 1.83 x\n",
      "\n",
      "Size of a, b: 100| Dot Product| Value: 2.59E+01, Loop time: 2.10E-05s\n",
      "Size of a, b: 100| Dot Product| Value: 2.59E+01, Matmul time: 1.15E-06s\n",
      "SpeedUp of matmul compared to loop for size 100: 16.83 x\n",
      "\n",
      "Size of a, b: 1000| Dot Product| Value: 2.38E+02, Loop time: 2.14E-04s\n",
      "Size of a, b: 1000| Dot Product| Value: 2.38E+02, Matmul time: 1.30E-06s\n",
      "SpeedUp of matmul compared to loop for size 1000: 158.84 x\n",
      "\n",
      "Size of a, b: 10000| Dot Product| Value: 2.53E+03, Loop time: 2.19E-03s\n",
      "Size of a, b: 10000| Dot Product| Value: 2.53E+03, Matmul time: 2.57E-06s\n",
      "SpeedUp of matmul compared to loop for size 10000: 850.95 x\n",
      "\n",
      "Size of a, b: 100000| Dot Product| Value: 2.50E+04, Loop time: 2.17E-02s\n",
      "Size of a, b: 100000| Dot Product| Value: 2.50E+04, Matmul time: 7.51E-05s\n",
      "SpeedUp of matmul compared to loop for size 100000: 305.25 x\n",
      "\n"
     ]
    }
   ],
   "source": [
    "SIZES_OF_ARRAY = [10, 100, 1000, 10000, 100000]\n",
    "\n",
    "for size_of_array in SIZES_OF_ARRAY:\n",
    "    a = np.random.random(size_of_array)\n",
    "    b = np.random.random(size_of_array)\n",
    "\n",
    "    avg_loop_time = []\n",
    "    for _ in range(1000): # Doing same computation for 100 times to reduce runtime variance\n",
    "        dot_loop_value = 0.0\n",
    "        t_loop_start = perf_counter()\n",
    "        for index in range(a.shape[0]):\n",
    "            dot_loop_value += a[index] * b[index]\n",
    "        t_loop_end = perf_counter()\n",
    "        \n",
    "        t_loop_total = t_loop_end - t_loop_start\n",
    "        if _ > 3: # Ignoring first 3 loop iterations, to further reduce the noise\n",
    "            avg_loop_time.append(t_loop_total)\n",
    "    avg_loop_time = np.mean(avg_loop_time)\n",
    "    print(f\"Size of a, b: {size_of_array}| Dot Product| Value: {dot_loop_value:.2E}, Loop time: {avg_loop_time:.2E}s\")\n",
    "\n",
    "    avg_matmul_time = []\n",
    "    for _ in range(1000): # Doing same computation for 100 times to reduce runtime variance\n",
    "        t_matmul_start = perf_counter()\n",
    "        dot_np_value = a @ b.T\n",
    "        t_matmul_end = perf_counter()\n",
    "        \n",
    "        t_matmul_total = t_matmul_end - t_matmul_start\n",
    "        if _ > 3: # Ignoring first 3 loop iterations, to further reduce the noise\n",
    "            avg_matmul_time.append(t_matmul_total)\n",
    "    avg_matmul_time = np.mean(avg_matmul_time)\n",
    "    print(f\"Size of a, b: {size_of_array}| Dot Product| Value: {dot_np_value:.2E}, Matmul time: {avg_matmul_time:.2E}s\")\n",
    "\n",
    "    speedUp = (t_loop_total / t_matmul_total)\n",
    "    print(f\"SpeedUp of matmul compared to loop for size {size_of_array}: {round(speedUp, 2)} x\\n\")"
   ]
  },
  {
   "attachments": {},
   "cell_type": "markdown",
   "metadata": {},
   "source": [
    "### Comparing speedup for loop-based vs np.matmul for matrix multiplication of N-D array\n",
    "- Two random np.arrays a, b are created each of size 10, 100, 1000, 10000, 100000\n",
    "- Time required to obtain dot product using loop is calculated as mean of 1000 runs to reduce variance\n",
    "- The same procedure is done for np.matmul operation -> a @ b.T\n",
    "- Speedup is represented as multiples: Ratio of ```time_taken_for_loop / time_taken_for_matmul```"
   ]
  },
  {
   "cell_type": "code",
   "execution_count": 95,
   "metadata": {},
   "outputs": [
    {
     "name": "stdout",
     "output_type": "stream",
     "text": [
      "Size of a, b: 10| Loop time: 4.24E-04s\n",
      "Size of a, b: 10| np.matmul time: 1.65E-06s\n",
      "SpeedUp of matmul for N-D array compared to loop for size 10: 246.94 x\n",
      "\n",
      "Size of a, b: 100| Loop time: 4.07E-01s\n",
      "Size of a, b: 100| np.matmul time: 1.04E-04s\n",
      "SpeedUp of matmul for N-D array compared to loop for size 100: 3999.59 x\n",
      "\n"
     ]
    },
    {
     "ename": "KeyboardInterrupt",
     "evalue": "",
     "output_type": "error",
     "traceback": [
      "\u001b[1;31m---------------------------------------------------------------------------\u001b[0m",
      "\u001b[1;31mKeyboardInterrupt\u001b[0m                         Traceback (most recent call last)",
      "Cell \u001b[1;32mIn[95], line 16\u001b[0m\n\u001b[0;32m     14\u001b[0m     product \u001b[39m=\u001b[39m \u001b[39m0\u001b[39m\n\u001b[0;32m     15\u001b[0m     \u001b[39mfor\u001b[39;00m k \u001b[39min\u001b[39;00m \u001b[39mrange\u001b[39m(a\u001b[39m.\u001b[39mshape[\u001b[39m1\u001b[39m]):\n\u001b[1;32m---> 16\u001b[0m         product \u001b[39m+\u001b[39m\u001b[39m=\u001b[39m a[i][k] \u001b[39m*\u001b[39m b[k][j]\n\u001b[0;32m     17\u001b[0m     row\u001b[39m.\u001b[39mappend(product)\n\u001b[0;32m     18\u001b[0m result\u001b[39m.\u001b[39mappend(row)\n",
      "\u001b[1;31mKeyboardInterrupt\u001b[0m: "
     ]
    }
   ],
   "source": [
    "SIZES_OF_ARRAY = [10, 100, 1000, 10000, 100000]\n",
    "\n",
    "for size_of_array in SIZES_OF_ARRAY:\n",
    "    a = np.random.random((size_of_array, size_of_array))\n",
    "    b = np.random.random((size_of_array, size_of_array))\n",
    "\n",
    "    avg_loop_time = []\n",
    "    for _ in range(20): # Doing same computation for 20 times to reduce runtime variance\n",
    "        result = []\n",
    "        t_loop_start = perf_counter()\n",
    "        for i in range(a.shape[0]):\n",
    "            row = []\n",
    "            for j in range(b.shape[1]):\n",
    "                product = 0\n",
    "                for k in range(a.shape[1]):\n",
    "                    product += a[i][k] * b[k][j]\n",
    "                row.append(product)\n",
    "            result.append(row)\n",
    "        \n",
    "        t_loop_end = perf_counter()\n",
    "        \n",
    "        t_loop_total = t_loop_end - t_loop_start\n",
    "        if _ > 3: # Ignoring first 3 loop iterations, to further reduce the noise\n",
    "            avg_loop_time.append(t_loop_total)\n",
    "    avg_loop_time = np.mean(avg_loop_time)\n",
    "    print(f\"Size of a, b: {size_of_array}| Loop time: {avg_loop_time:.2E}s\")\n",
    "\n",
    "    avg_matmul_time = []\n",
    "    for _ in range(20): # Doing same computation for 20 times to reduce runtime variance\n",
    "        t_matmul_start = perf_counter()\n",
    "        dot_np_value = a @ b\n",
    "        t_matmul_end = perf_counter()\n",
    "        \n",
    "        t_matmul_total = t_matmul_end - t_matmul_start\n",
    "        if _ > 3: # Ignoring first 3 loop iterations, to further reduce the noise\n",
    "            avg_matmul_time.append(t_matmul_total)\n",
    "    avg_matmul_time = np.mean(avg_matmul_time)\n",
    "    print(f\"Size of a, b: {size_of_array}| np.matmul time: {avg_matmul_time:.2E}s\")\n",
    "\n",
    "    speedUp = (t_loop_total / t_matmul_total)\n",
    "    print(f\"SpeedUp of matmul for N-D array compared to loop for size {size_of_array}: {round(speedUp, 2)} x\\n\")"
   ]
  }
 ],
 "metadata": {
  "kernelspec": {
   "display_name": "venv",
   "language": "python",
   "name": "python3"
  },
  "language_info": {
   "codemirror_mode": {
    "name": "ipython",
    "version": 3
   },
   "file_extension": ".py",
   "mimetype": "text/x-python",
   "name": "python",
   "nbconvert_exporter": "python",
   "pygments_lexer": "ipython3",
   "version": "3.10.10"
  },
  "orig_nbformat": 4
 },
 "nbformat": 4,
 "nbformat_minor": 2
}
