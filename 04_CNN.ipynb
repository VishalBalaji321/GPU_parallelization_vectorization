{
 "cells": [
  {
   "attachments": {},
   "cell_type": "markdown",
   "metadata": {},
   "source": [
    "# 3 Vectorization in neural networks (Batchsize)\n",
    "\n",
    "Huge part of the code has been dervied from the following PyTorch tutorial: https://pytorch.org/tutorials/beginner/blitz/cifar10_tutorial.html#sphx-glr-beginner-blitz-cifar10-tutorial-py"
   ]
  },
  {
   "cell_type": "code",
   "execution_count": 1,
   "metadata": {},
   "outputs": [],
   "source": [
    "from time import perf_counter, time\n",
    "import numpy as np # version = 1.24.3\n",
    "import torch # version = 2.0.0 + cu118\n",
    "import torch.nn.functional as F\n",
    "import torch.nn as nn\n",
    "import torch.optim as optim\n",
    "\n",
    "import torchvision\n",
    "import torchvision.transforms as transforms\n",
    "from matplotlib import pyplot as plt\n",
    "import random\n",
    "from tqdm.notebook import tqdm"
   ]
  },
  {
   "attachments": {},
   "cell_type": "markdown",
   "metadata": {},
   "source": [
    "## Load Dataset"
   ]
  },
  {
   "cell_type": "code",
   "execution_count": 5,
   "metadata": {},
   "outputs": [
    {
     "name": "stdout",
     "output_type": "stream",
     "text": [
      "Files already downloaded and verified\n",
      "Files already downloaded and verified\n",
      "16667\n"
     ]
    }
   ],
   "source": [
    "transform = transforms.Compose(\n",
    "    [transforms.ToTensor(),\n",
    "     transforms.Normalize((0.5, 0.5, 0.5), (0.5, 0.5, 0.5))])\n",
    "\n",
    "batch_size = 4\n",
    "\n",
    "trainset = torchvision.datasets.CIFAR10(root='./data', train=True,\n",
    "                                        download=True, transform=transform)\n",
    "testset = torchvision.datasets.CIFAR10(root='./data', train=False,\n",
    "                                       download=True, transform=transform)\n",
    "\n",
    "take_indices_train = list(range(0, len(trainset), 3))\n",
    "take_indices_valid = list(range(1, len(testset), 2))\n",
    "\n",
    "train_subset = torch.utils.data.Subset(trainset, take_indices_train)\n",
    "valid_subset = torch.utils.data.Subset(testset, take_indices_valid)\n",
    "# trainloader = torch.utils.data.DataLoader(train_subset, batch_size=batch_size,\n",
    "#                                           shuffle=True, num_workers=2)\n",
    "\n",
    "# testloader = torch.utils.data.DataLoader(valid_subset, batch_size=batch_size,\n",
    "#                                          shuffle=False, num_workers=2)\n",
    "\n",
    "# classes = ('plane', 'car', 'bird', 'cat',\n",
    "#            'deer', 'dog', 'frog', 'horse', 'ship', 'truck')\n",
    "print(len(train_subset))"
   ]
  },
  {
   "attachments": {},
   "cell_type": "markdown",
   "metadata": {},
   "source": [
    "### Inspect Dataset"
   ]
  },
  {
   "cell_type": "code",
   "execution_count": 21,
   "metadata": {},
   "outputs": [
    {
     "data": {
      "image/png": "[encoded data removed]",
      "text/plain": [
       "<Figure size 640x480 with 1 Axes>"
      ]
     },
     "metadata": {},
     "output_type": "display_data"
    },
    {
     "name": "stdout",
     "output_type": "stream",
     "text": [
      "plane ship  deer  ship \n"
     ]
    }
   ],
   "source": [
    "# functions to show an image\n",
    "def imshow(img):\n",
    "    img = img / 2 + 0.5     # unnormalize\n",
    "    npimg = img.numpy()\n",
    "    plt.imshow(np.transpose(npimg, (1, 2, 0)))\n",
    "    plt.show()\n",
    "\n",
    "\n",
    "# get some random training images\n",
    "dataiter = iter(trainloader)\n",
    "images, labels = next(dataiter)\n",
    "\n",
    "# show images\n",
    "imshow(torchvision.utils.make_grid(images))\n",
    "# print labels\n",
    "print(' '.join(f'{classes[labels[j]]:5s}' for j in range(batch_size)))"
   ]
  },
  {
   "attachments": {},
   "cell_type": "markdown",
   "metadata": {},
   "source": [
    "## Define model and training params"
   ]
  },
  {
   "cell_type": "code",
   "execution_count": 6,
   "metadata": {},
   "outputs": [],
   "source": [
    "class Net(nn.Module):\n",
    "    def __init__(self):\n",
    "        super().__init__()\n",
    "        self.conv1 = nn.Conv2d(3, 6, 5)\n",
    "        self.pool = nn.MaxPool2d(2, 2)\n",
    "        self.conv2 = nn.Conv2d(6, 16, 5)\n",
    "        self.fc1 = nn.Linear(16 * 5 * 5, 120)\n",
    "        self.fc2 = nn.Linear(120, 84)\n",
    "        self.fc3 = nn.Linear(84, 10)\n",
    "\n",
    "    def forward(self, x):\n",
    "        x = self.pool(F.relu(self.conv1(x)))\n",
    "        x = self.pool(F.relu(self.conv2(x)))\n",
    "        x = torch.flatten(x, 1) # flatten all dimensions except batch\n",
    "        x = F.relu(self.fc1(x))\n",
    "        x = F.relu(self.fc2(x))\n",
    "        x = self.fc3(x)\n",
    "        return x"
   ]
  },
  {
   "attachments": {},
   "cell_type": "markdown",
   "metadata": {},
   "source": [
    "## Training"
   ]
  },
  {
   "cell_type": "code",
   "execution_count": 21,
   "metadata": {},
   "outputs": [
    {
     "data": {
      "application/vnd.jupyter.widget-view+json": {
       "model_id": "ad4ee655eaa04b48851e99b7d0bd4500",
       "version_major": 2,
       "version_minor": 0
      },
      "text/plain": [
       "  0%|          | 0/10 [00:00<?, ?it/s]"
      ]
     },
     "metadata": {},
     "output_type": "display_data"
    },
    {
     "name": "stdout",
     "output_type": "stream",
     "text": [
      "epoch: 0, val accuracy: 11\n",
      "epoch: 1, val accuracy: 14\n",
      "epoch: 2, val accuracy: 14\n",
      "epoch: 3, val accuracy: 14\n",
      "epoch: 4, val accuracy: 16\n",
      "epoch: 5, val accuracy: 23\n",
      "epoch: 6, val accuracy: 26\n",
      "epoch: 7, val accuracy: 28\n",
      "epoch: 8, val accuracy: 30\n",
      "epoch: 9, val accuracy: 31\n",
      "Finished Training\n"
     ]
    }
   ],
   "source": [
    "NUM_EPOCHS = 10\n",
    "\n",
    "loss_epoch_bs = []\n",
    "valid_accuracy_bs = []\n",
    "time_for_epoch_bs = []\n",
    "\n",
    "BATCHSIZE = [64] #, 512] #[4, 16, 64, 256, 512]\n",
    "for bs in BATCHSIZE:\n",
    "    trainloader = torch.utils.data.DataLoader(train_subset, batch_size=bs,\n",
    "                                            shuffle=True, num_workers=4)\n",
    "\n",
    "    testloader = torch.utils.data.DataLoader(valid_subset, batch_size=bs,\n",
    "                                            shuffle=False, num_workers=4)\n",
    "\n",
    "    device = torch.device(\"cuda\")\n",
    "    net = Net()\n",
    "    net.to(device)\n",
    "    criterion = nn.CrossEntropyLoss()\n",
    "    optimizer = optim.SGD(net.parameters(), lr=0.001, momentum=0.9)\n",
    "    scaler = torch.cuda.amp.GradScaler(enabled=True)\n",
    "    loss_epoch = []\n",
    "    valid_accuracy = []\n",
    "    time_for_epoch = []\n",
    "\n",
    "    for epoch in tqdm(range(NUM_EPOCHS)):  # loop over the dataset multiple times\n",
    "        running_loss = 0.0\n",
    "        total = 0\n",
    "        correct = 0\n",
    "        _t_start = perf_counter()\n",
    "        for i, data in enumerate(trainloader, 0):\n",
    "            # get the inputs; data is a list of [inputs, labels]\n",
    "            inputs, labels = data[0].to(device), data[1].to(device)\n",
    "\n",
    "            with torch.autocast(device_type='cuda', dtype=torch.float16):\n",
    "                outputs = net(inputs)\n",
    "                loss = criterion(outputs, labels)\n",
    "            scaler.scale(loss).backward()\n",
    "            scaler.step(optimizer)\n",
    "            scaler.update()\n",
    "            optimizer.zero_grad()\n",
    "\n",
    "            _, predicted = torch.max(outputs.data, 1)\n",
    "            total += labels.size(0)\n",
    "            correct += (predicted == labels).sum().item()\n",
    "\n",
    "            # print statistics\n",
    "            running_loss += loss.item()\n",
    "            # if i % (len(train_subset) // (bs*10)) == 0:    # print every 2000 mini-batches\n",
    "            #     print(f'[{epoch + 1}, {i + 1:5d}] loss: {running_loss / 2000:.3f}, acc: {100 * correct // total}%')\n",
    "                # running_loss = 0.0\n",
    "        _t_end = perf_counter()\n",
    "        time_for_epoch.append(_t_end - _t_start)\n",
    "        loss_epoch.append(running_loss)\n",
    "\n",
    "        correct = 0\n",
    "        total = 0\n",
    "        # since we're not training, we don't need to calculate the gradients for our outputs\n",
    "        with torch.no_grad():\n",
    "            for data in testloader:\n",
    "                images, labels = data[0].to(device), data[1].to(device)\n",
    "                with torch.autocast(device_type='cuda', dtype=torch.float16):\n",
    "                    # calculate outputs by running images through the network\n",
    "                    outputs = net(images)\n",
    "\n",
    "                # the class with the highest energy is what we choose as prediction\n",
    "                _, predicted = torch.max(outputs.data, 1)\n",
    "                total += labels.size(0)\n",
    "                correct += (predicted == labels).sum().item()\n",
    "        val_acc_epoch = 100 * correct // total\n",
    "        print(f\"epoch: {epoch}, val accuracy: {val_acc_epoch}\")\n",
    "        valid_accuracy.append(val_acc_epoch)\n",
    "    \n",
    "    loss_epoch_bs.append(loss_epoch)\n",
    "    valid_accuracy_bs.append(valid_accuracy)\n",
    "    time_for_epoch_bs.append(time_for_epoch)\n",
    "\n",
    "print('Finished Training')\n"
   ]
  },
  {
   "cell_type": "code",
   "execution_count": 22,
   "metadata": {},
   "outputs": [
    {
     "name": "stdout",
     "output_type": "stream",
     "text": [
      "[12.861581599980127, 13.025183199963067, 13.438129499962088, 12.996883500018157, 12.72336910001468, 12.6322062999825, 12.604110100015532, 12.554656699998304, 12.849772599991411, 12.710531499993522]\n",
      "[11, 14, 14, 14, 16, 23, 26, 28, 30, 31]\n",
      "[600.9510655403137, 600.2658658027649, 599.1898894309998, 596.1019265651703, 582.9608707427979, 562.1368412971497, 544.7617032527924, 527.5234583616257, 513.392126083374, 500.3276011943817]\n"
     ]
    }
   ],
   "source": [
    "print(time_for_epoch)\n",
    "print(valid_accuracy)\n",
    "print(loss_epoch)"
   ]
  }
 ],
 "metadata": {
  "kernelspec": {
   "display_name": "venv",
   "language": "python",
   "name": "python3"
  },
  "language_info": {
   "codemirror_mode": {
    "name": "ipython",
    "version": 3
   },
   "file_extension": ".py",
   "mimetype": "text/x-python",
   "name": "python",
   "nbconvert_exporter": "python",
   "pygments_lexer": "ipython3",
   "version": "3.10.10"
  },
  "orig_nbformat": 4
 },
 "nbformat": 4,
 "nbformat_minor": 2
}
